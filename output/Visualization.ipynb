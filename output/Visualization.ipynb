{
 "cells": [
  {
   "cell_type": "code",
   "execution_count": 36,
   "metadata": {
    "tags": []
   },
   "outputs": [
    {
     "output_type": "stream",
     "name": "stdout",
     "text": "Populating the interactive namespace from numpy and matplotlib\n"
    },
    {
     "output_type": "execute_result",
     "data": {
      "text/plain": "(20, 10, 2, 2, 2, 5)"
     },
     "metadata": {},
     "execution_count": 36
    }
   ],
   "source": [
    "%pylab inline\n",
    "import numpy as np\n",
    "from mpl_toolkits.mplot3d import axes3d, Axes3D\n",
    "n_grid_size = 10\n",
    "w_grid_size = 20\n",
    "aSize = 2\n",
    "sSize = 2\n",
    "eSize = 2\n",
    "T_max = 70\n",
    "T_min = 0\n",
    "T_size = T_max - T_min + 1\n",
    "shape = (w_grid_size, n_grid_size, eSize, sSize, aSize, T_size)\n",
    "\n",
    "# wealth discretization \n",
    "w_grid_size = 20\n",
    "w_lower = 3\n",
    "w_upper = 2000\n",
    "# 401k amount discretization \n",
    "n_grid_size = 10\n",
    "n_lower = 3\n",
    "n_upper = 1000\n",
    "power = 2\n",
    "\n",
    "def powspace(start, stop, power, num):\n",
    "    start = np.power(start, 1/float(power))\n",
    "    stop = np.power(stop, 1/float(power))\n",
    "    return np.power(np.linspace(start, stop, num=num), power)\n",
    "\n",
    "\n",
    "xgrid = np.array([[w,n,e,s,A] for w in powspace(w_lower, w_upper, power, w_grid_size)\n",
    "                            for n in powspace(n_lower, n_upper, power, n_grid_size)\n",
    "                            for s in [0,1]\n",
    "                            for e in [0,1]\n",
    "                            for A in [0,1]]).reshape((w_grid_size, n_grid_size, 2,2,2,5))\n",
    "\n",
    "xgrid.shape"
   ]
  },
  {
   "cell_type": "code",
   "execution_count": 37,
   "metadata": {},
   "outputs": [
    {
     "output_type": "execute_result",
     "data": {
      "text/plain": "(20, 10, 2, 2, 2, 71)"
     },
     "metadata": {},
     "execution_count": 37
    }
   ],
   "source": [
    "Vgrid = np.loadtxt(\"Vgrid.txt\").reshape(shape)\n",
    "Vgrid.shape\n",
    "# cgrid = loadtxt(\"cgrid.txt\").reshape(shape)\n",
    "# bgrid = loadtxt(\"bgrid.txt\").reshape(shape)\n",
    "# kgrid = loadtxt(\"kgrid.txt\").reshape(shape)"
   ]
  },
  {
   "cell_type": "code",
   "execution_count": null,
   "metadata": {},
   "outputs": [],
   "source": [
    "for i in range(T_max, T_min-1,-1):\n",
    "    fig = plt.figure(figsize = [12, 8])\n",
    "    ax = fig.add_subplot(111, projection='3d')\n",
    "    ax.plot_surface(X = xgrid[:,:,1,1,1,0], Y = xgrid[:,:,1,1,1,1], Z=Vgrid[:,:,1,1,1,0])\n",
    "    plt.show()"
   ]
  },
  {
   "cell_type": "code",
   "execution_count": null,
   "metadata": {},
   "outputs": [],
   "source": [
    "def summaryPlotChoiceVStime(w_level, n_level, s, e, A, C = cgrid, B = bgrid, K = kgrid):\n",
    "    c = []\n",
    "    b = []\n",
    "    k = []\n",
    "    for t in range(1,T_max):\n",
    "        c.append(RS(ws, ns, C[:,:,s,e,A,t])(w_level, n_level)[0])\n",
    "        b.append(RS(ws, ns, B[:,:,s,e,A,t])(w_level, n_level)[0])\n",
    "        k.append(RS(ws, ns, K[:,:,s,e,A,t])(w_level, n_level)[0])\n",
    "    plt.figure(figsize = [12,8])\n",
    "    plt.plot(c, label = \"Consumption\")\n",
    "    plt.plot(b, label= \"Bond Holding\")\n",
    "    plt.plot(k, label=\"Stock Holding\")\n",
    "    plt.legend()\n",
    "    plt.show()\n",
    "summaryPlotChoiceVStime(100, 100, 1, 1, 1)"
   ]
  },
  {
   "cell_type": "code",
   "execution_count": null,
   "metadata": {},
   "outputs": [],
   "source": [
    "shape = loadtxt(\"shape.txt\")"
   ]
  }
 ],
 "metadata": {
  "kernelspec": {
   "display_name": "Python 3",
   "language": "python",
   "name": "python3"
  },
  "language_info": {
   "codemirror_mode": {
    "name": "ipython",
    "version": 3
   },
   "file_extension": ".py",
   "mimetype": "text/x-python",
   "name": "python",
   "nbconvert_exporter": "python",
   "pygments_lexer": "ipython3",
   "version": "3.7.4-final"
  }
 },
 "nbformat": 4,
 "nbformat_minor": 4
}