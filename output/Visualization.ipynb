{
 "cells": [
  {
   "cell_type": "code",
   "execution_count": null,
   "metadata": {
    "tags": []
   },
   "outputs": [],
   "source": [
    "%pylab inline\n",
    "import numpy as np"
   ]
  },
  {
   "cell_type": "code",
   "execution_count": null,
   "metadata": {},
   "outputs": [],
   "source": [
    "Vgrid = loadtxt(\"vgrid.txt\").reshape(shape)\n",
    "cgrid = loadtxt(\"cgrid.txt\").reshape(shape)\n",
    "bgrid = loadtxt(\"bgrid.txt\").reshape(shape)\n",
    "kgrid = loadtxt(\"kgrid.txt\").reshape(shape)"
   ]
  },
  {
   "cell_type": "code",
   "execution_count": null,
   "metadata": {},
   "outputs": [],
   "source": [
    "fig = plt.figure(figsize = [12, 8])\n",
    "ax = fig.add_subplot(111, projection='3d')\n",
    "ax.plot_surface(X = xgrid[:,:,1,1,1,0], Y = xgrid[:,:,1,1,1,1], Z=Vgrid[:,:,1,1,1,1])\n",
    "plt.show()"
   ]
  },
  {
   "cell_type": "code",
   "execution_count": null,
   "metadata": {},
   "outputs": [],
   "source": [
    "def summaryPlotChoiceVStime(w_level, n_level, s, e, A, C = cgrid, B = bgrid, K = kgrid):\n",
    "    c = []\n",
    "    b = []\n",
    "    k = []\n",
    "    for t in range(1,T_max):\n",
    "        c.append(RS(ws, ns, C[:,:,s,e,A,t])(w_level, n_level)[0])\n",
    "        b.append(RS(ws, ns, B[:,:,s,e,A,t])(w_level, n_level)[0])\n",
    "        k.append(RS(ws, ns, K[:,:,s,e,A,t])(w_level, n_level)[0])\n",
    "    plt.figure(figsize = [12,8])\n",
    "    plt.plot(c, label = \"Consumption\")\n",
    "    plt.plot(b, label= \"Bond Holding\")\n",
    "    plt.plot(k, label=\"Stock Holding\")\n",
    "    plt.legend()\n",
    "    plt.show()\n",
    "summaryPlotChoiceVStime(100, 100, 1, 1, 1)"
   ]
  },
  {
   "cell_type": "code",
   "execution_count": null,
   "metadata": {},
   "outputs": [],
   "source": [
    "shape = loadtxt(\"shape.txt\")"
   ]
  }
 ],
 "metadata": {
  "kernelspec": {
   "display_name": "Python 3",
   "language": "python",
   "name": "python3"
  },
  "language_info": {
   "codemirror_mode": {
    "name": "ipython",
    "version": 3
   },
   "file_extension": ".py",
   "mimetype": "text/x-python",
   "name": "python",
   "nbconvert_exporter": "python",
   "pygments_lexer": "ipython3",
   "version": "3.7.4-final"
  }
 },
 "nbformat": 4,
 "nbformat_minor": 4
}